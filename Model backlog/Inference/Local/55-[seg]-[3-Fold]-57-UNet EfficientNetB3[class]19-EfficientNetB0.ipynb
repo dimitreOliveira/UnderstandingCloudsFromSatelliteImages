{
 "cells": [
  {
   "cell_type": "markdown",
   "metadata": {
    "colab_type": "text",
    "id": "yxvzFnySHdqd"
   },
   "source": [
    "### Dependencies"
   ]
  },
  {
   "cell_type": "code",
   "execution_count": 11,
   "metadata": {
    "cellView": "form",
    "colab": {},
    "colab_type": "code",
    "hide_input": false,
    "id": "rl40mXGJXmpB"
   },
   "outputs": [],
   "source": [
    "import sys\n",
    "sys.path.append('../../Scripts/')"
   ]
  },
  {
   "cell_type": "code",
   "execution_count": 12,
   "metadata": {},
   "outputs": [],
   "source": [
    "from utillity_script_cloud_segmentation import *\n",
    "from utillity_script_lr_schedulers import *"
   ]
  },
  {
   "cell_type": "code",
   "execution_count": 13,
   "metadata": {
    "_kg_hide-output": true,
    "colab": {},
    "colab_type": "code",
    "id": "ayE1DJg0fRzl"
   },
   "outputs": [],
   "source": [
    "seed = 0\n",
    "seed_everything(seed)\n",
    "warnings.filterwarnings(\"ignore\")"
   ]
  },
  {
   "cell_type": "code",
   "execution_count": 14,
   "metadata": {},
   "outputs": [],
   "source": [
    "train_path = '../../data/train.csv'\n",
    "submission_path = '../../data/sample_submission.csv'\n",
    "hold_out_set_path = '../../data/hold-out.csv'\n",
    "train_images_path = '../../data/train_images320x480/'\n",
    "test_images_path = '../../data/test_images320x480/'"
   ]
  },
  {
   "cell_type": "markdown",
   "metadata": {
    "colab_type": "text",
    "id": "6SnKKLczHdqn"
   },
   "source": [
    "### Load data"
   ]
  },
  {
   "cell_type": "code",
   "execution_count": 15,
   "metadata": {
    "_cell_guid": "79c7e3d0-c299-4dcb-8224-4455121ee9b0",
    "_kg_hide-input": true,
    "_uuid": "d629ff2d2480ee46fbb7e2d37f6b5fab8052498a",
    "colab": {},
    "colab_type": "code",
    "id": "pH6kKJKoHdqo"
   },
   "outputs": [
    {
     "name": "stdout",
     "output_type": "stream",
     "text": [
      "Compete set samples: 22184\n",
      "Train samples:  4420\n",
      "Validation samples:  1105\n",
      "Test samples: 14792\n"
     ]
    },
    {
     "data": {
      "text/html": [
       "<div>\n",
       "<style scoped>\n",
       "    .dataframe tbody tr th:only-of-type {\n",
       "        vertical-align: middle;\n",
       "    }\n",
       "\n",
       "    .dataframe tbody tr th {\n",
       "        vertical-align: top;\n",
       "    }\n",
       "\n",
       "    .dataframe thead th {\n",
       "        text-align: right;\n",
       "    }\n",
       "</style>\n",
       "<table border=\"1\" class=\"dataframe\">\n",
       "  <thead>\n",
       "    <tr style=\"text-align: right;\">\n",
       "      <th></th>\n",
       "      <th>Image_Label</th>\n",
       "      <th>EncodedPixels</th>\n",
       "      <th>image</th>\n",
       "    </tr>\n",
       "  </thead>\n",
       "  <tbody>\n",
       "    <tr>\n",
       "      <th>0</th>\n",
       "      <td>002f507.jpg_Fish</td>\n",
       "      <td>1 1</td>\n",
       "      <td>002f507.jpg</td>\n",
       "    </tr>\n",
       "    <tr>\n",
       "      <th>1</th>\n",
       "      <td>002f507.jpg_Flower</td>\n",
       "      <td>1 1</td>\n",
       "      <td>002f507.jpg</td>\n",
       "    </tr>\n",
       "    <tr>\n",
       "      <th>2</th>\n",
       "      <td>002f507.jpg_Gravel</td>\n",
       "      <td>1 1</td>\n",
       "      <td>002f507.jpg</td>\n",
       "    </tr>\n",
       "    <tr>\n",
       "      <th>3</th>\n",
       "      <td>002f507.jpg_Sugar</td>\n",
       "      <td>1 1</td>\n",
       "      <td>002f507.jpg</td>\n",
       "    </tr>\n",
       "    <tr>\n",
       "      <th>4</th>\n",
       "      <td>0035ae9.jpg_Fish</td>\n",
       "      <td>1 1</td>\n",
       "      <td>0035ae9.jpg</td>\n",
       "    </tr>\n",
       "  </tbody>\n",
       "</table>\n",
       "</div>"
      ],
      "text/plain": [
       "          Image_Label EncodedPixels        image\n",
       "0    002f507.jpg_Fish           1 1  002f507.jpg\n",
       "1  002f507.jpg_Flower           1 1  002f507.jpg\n",
       "2  002f507.jpg_Gravel           1 1  002f507.jpg\n",
       "3   002f507.jpg_Sugar           1 1  002f507.jpg\n",
       "4    0035ae9.jpg_Fish           1 1  0035ae9.jpg"
      ]
     },
     "metadata": {},
     "output_type": "display_data"
    }
   ],
   "source": [
    "train = pd.read_csv(train_path)\n",
    "hold_out_set = pd.read_csv(hold_out_set_path)\n",
    "submission = pd.read_csv(submission_path)\n",
    "\n",
    "X_train = hold_out_set[hold_out_set['set'] == 'train']\n",
    "X_val = hold_out_set[hold_out_set['set'] == 'validation']\n",
    "\n",
    "print('Compete set samples:', len(train))\n",
    "print('Train samples: ', len(X_train))\n",
    "print('Validation samples: ', len(X_val))\n",
    "print('Test samples:', len(submission))\n",
    "\n",
    "# Preprocecss data\n",
    "train['image'] = train['Image_Label'].apply(lambda x: x.split('_')[0])\n",
    "submission['image'] = submission['Image_Label'].apply(lambda x: x.split('_')[0])\n",
    "test = pd.DataFrame(submission['image'].unique(), columns=['image'])\n",
    "\n",
    "display(submission.head())"
   ]
  },
  {
   "cell_type": "markdown",
   "metadata": {
    "colab_type": "text",
    "id": "xyPzEBHGHdqr"
   },
   "source": [
    "# Model parameters"
   ]
  },
  {
   "cell_type": "code",
   "execution_count": 16,
   "metadata": {
    "colab": {},
    "colab_type": "code",
    "id": "BBNl0qkSHdqs"
   },
   "outputs": [],
   "source": [
    "BACKBONE = 'efficientnetb3'\n",
    "CLASS_HEIGHT = 224\n",
    "CLASS_WIDTH = 224\n",
    "SEG_HEIGHT = 320\n",
    "SEG_WIDTH = 480\n",
    "CHANNELS = 3\n",
    "N_CLASSES = 4\n",
    "TTA_STEPS = 8\n",
    "label_columns=['Fish', 'Flower', 'Gravel', 'Sugar']\n",
    "best_tresholds_class = [0.64, 0.52, 0.61, 0.59] # beta 0.5\n",
    "best_tresholds_class2 = [0.46, 0.29, 0.49, 0.4] # beta 1\n",
    "# best_tresholds_seg = [0.6, 0.55, 0.45, 0.3]\n",
    "# best_masks_seg = [17500, 15000, 20000, 10000]\n",
    "\n",
    "classification_model_path = '../files/classification/19-EfficientNetB0_224x224_Cyclical_triangular.h5'\n",
    "segmentation_model_path_list = ['../files/57-unet[fold-1]_efficientnetb3_320x480.h5', \n",
    "                                '../files/57-unet[fold-2]_efficientnetb3_320x480.h5', \n",
    "                                '../files/57-unet[fold-3]_efficientnetb3_320x480.h5']\n",
    "\n",
    "model_name = '55-[seg]-[3-Fold]-57-UNet EfficientNetB3[class]19-EfficientNetB0'\n",
    "submission_base_path = '../../submissions/'\n",
    "submission_post_path = submission_base_path + '%s_submission_post.csv' % (model_name)\n",
    "submission_post_class_path = submission_base_path + '%s_submission_post_class.csv' % (model_name)\n",
    "submission_post_class2_path = submission_base_path + '%s_submission_post_class2.csv' % (model_name)\n",
    "submission_post_tta_path = submission_base_path + '%s_submission_post_tta.csv' % (model_name)\n",
    "submission_post_tta_class_path = submission_base_path + '%s_submission_post_class_tta.csv' % (model_name)\n",
    "submission_post_tta_class2_path = submission_base_path + '%s_submission_post_class2_tta.csv' % (model_name)"
   ]
  },
  {
   "cell_type": "code",
   "execution_count": 17,
   "metadata": {
    "colab": {},
    "colab_type": "code",
    "id": "kPFWWaAEXZp0"
   },
   "outputs": [],
   "source": [
    "preprocessing = sm.get_preprocessing(BACKBONE)"
   ]
  },
  {
   "cell_type": "markdown",
   "metadata": {
    "colab_type": "text",
    "id": "Idm7ex1GHdq_"
   },
   "source": [
    "# Model"
   ]
  },
  {
   "cell_type": "code",
   "execution_count": 18,
   "metadata": {
    "colab": {},
    "colab_type": "code",
    "id": "b-TF9Qn3dVBl"
   },
   "outputs": [
    {
     "name": "stdout",
     "output_type": "stream",
     "text": [
      "__________________________________________________________________________________________________\n",
      "Layer (type)                    Output Shape         Param #     Connected to                     \n",
      "==================================================================================================\n",
      "input_2 (InputLayer)            (None, 320, 480, 3)  0                                            \n",
      "__________________________________________________________________________________________________\n",
      "ensemble_0_model_14 (Model)     (None, 320, 480, 4)  17868268    input_2[0][0]                    \n",
      "__________________________________________________________________________________________________\n",
      "ensemble_1_model_2 (Model)      (None, 320, 480, 4)  17868268    input_2[0][0]                    \n",
      "__________________________________________________________________________________________________\n",
      "ensemble_2_model_2 (Model)      (None, 320, 480, 4)  17868268    input_2[0][0]                    \n",
      "__________________________________________________________________________________________________\n",
      "average_2 (Average)             (None, 320, 480, 4)  0           ensemble_0_model_14[1][0]        \n",
      "                                                                 ensemble_1_model_2[1][0]         \n",
      "                                                                 ensemble_2_model_2[1][0]         \n",
      "==================================================================================================\n",
      "Total params: 53,604,804\n",
      "Trainable params: 53,336,964\n",
      "Non-trainable params: 267,840\n",
      "__________________________________________________________________________________________________\n"
     ]
    }
   ],
   "source": [
    "classification_model = load_model(classification_model_path)\n",
    "segmentation_model_list = []\n",
    "for model_path in segmentation_model_path_list:\n",
    "    segmentation_model_list.append(load_model(model_path, custom_objects={'binary_crossentropy_plus_dice_loss':sm.losses.bce_dice_loss, 'dice_coef':dice_coef, 'iou_score':sm.metrics.iou_score, 'f1-score':sm.metrics.f1_score}))\n",
    "\n",
    "segmentation_model = ensemble_models((SEG_HEIGHT, SEG_WIDTH, CHANNELS), segmentation_model_list, rename_model=True)\n",
    "segmentation_model.summary()"
   ]
  },
  {
   "cell_type": "markdown",
   "metadata": {},
   "source": [
    "## Segmentation threshold and mask size tunning"
   ]
  },
  {
   "cell_type": "code",
   "execution_count": null,
   "metadata": {},
   "outputs": [],
   "source": [
    "mask_grid = [0, 5000, 7500, 10000, 12500, 15000, 17500, 20000, 22500, 25000]\n",
    "threshold_grid = np.arange(.3, 1, .05)\n",
    "best_tresholds_seg, best_masks_seg = segmentation_tunning(segmentation_model, train, X_val, train_images_path, (SEG_HEIGHT, SEG_WIDTH), label_columns, mask_grid, threshold_grid, N_CLASSES, preprocessing, seed, batch_size=500)"
   ]
  },
  {
   "cell_type": "markdown",
   "metadata": {
    "colab_type": "text",
    "id": "-fkJtNDKHdrO"
   },
   "source": [
    "# Model evaluation"
   ]
  },
  {
   "cell_type": "code",
   "execution_count": null,
   "metadata": {
    "_kg_hide-input": true,
    "cellView": "form",
    "colab": {},
    "colab_type": "code",
    "id": "qRL2Pq2mHdrP"
   },
   "outputs": [],
   "source": [
    "train_metrics = get_metrics(segmentation_model, train, X_train, train_images_path, (HEIGHT, WIDTH), label_columns, best_tresholds_seg, best_masks_seg, seed=seed, preprocessing=preprocessing, set_name='Train', batch_size=500)\n",
    "display(train_metrics)\n",
    "\n",
    "validation_metrics = get_metrics(segmentation_model, train, X_val, train_images_path, (HEIGHT, WIDTH), label_columns, best_tresholds_seg, best_masks_seg, seed=seed, preprocessing=preprocessing, set_name='Validation', batch_size=500)\n",
    "display(validation_metrics)"
   ]
  },
  {
   "cell_type": "markdown",
   "metadata": {
    "colab_type": "text",
    "id": "kEiavXfkxAzF"
   },
   "source": [
    "### Classification data generator"
   ]
  },
  {
   "cell_type": "code",
   "execution_count": null,
   "metadata": {
    "_kg_hide-input": true,
    "cellView": "both",
    "colab": {},
    "colab_type": "code",
    "id": "NYZa5zzHxChz"
   },
   "outputs": [],
   "source": [
    "test_datagen=ImageDataGenerator(rescale=1./255.,\n",
    "                                vertical_flip=True,\n",
    "                                horizontal_flip=True,\n",
    "                                zoom_range=[1, 1.2],\n",
    "                                fill_mode='constant',\n",
    "                                cval=0.)\n",
    "\n",
    "classification_test_generator=test_datagen.flow_from_dataframe(\n",
    "                                            dataframe=test,\n",
    "                                            directory=test_images_path,\n",
    "                                            x_col=\"image\",\n",
    "                                            target_size=(CLASS_HEIGHT, CLASS_WIDTH),\n",
    "                                            class_mode=None,\n",
    "                                            batch_size=1,\n",
    "                                            shuffle=False,\n",
    "                                            seed=seed)"
   ]
  },
  {
   "cell_type": "markdown",
   "metadata": {
    "colab_type": "text",
    "id": "gPam8UUdHdrS"
   },
   "source": [
    "# Apply segmentation model to test set"
   ]
  },
  {
   "cell_type": "code",
   "execution_count": null,
   "metadata": {
    "_kg_hide-input": true,
    "cellView": "both",
    "colab": {},
    "colab_type": "code",
    "hide_input": true,
    "id": "S9w0PeSzHdrT"
   },
   "outputs": [],
   "source": [
    "test_df = []\n",
    "\n",
    "for i in range(0, test.shape[0], 300):\n",
    "    batch_idx = list(range(i, min(test.shape[0], i + 300)))\n",
    "    batch_set = test[batch_idx[0]: batch_idx[-1]+1]\n",
    "    \n",
    "    test_generator = DataGenerator(\n",
    "                      directory=test_images_path,\n",
    "                      dataframe=batch_set,\n",
    "                      target_df=submission,\n",
    "                      batch_size=1, \n",
    "                      target_size=(SEG_HEIGHT, SEG_WIDTH),\n",
    "                      n_channels=CHANNELS,\n",
    "                      n_classes=N_CLASSES,\n",
    "                      preprocessing=preprocessing,\n",
    "                      seed=seed,\n",
    "                      mode='predict',\n",
    "                      shuffle=False)\n",
    "    \n",
    "    preds = segmentation_model.predict_generator(test_generator)\n",
    "\n",
    "    for index, b in enumerate(batch_idx):\n",
    "        filename = test['image'].iloc[b]\n",
    "        image_df = submission[submission['image'] == filename].copy()\n",
    "        pred_masks = preds[index, ].astype('float32')\n",
    "        for class_index in range(N_CLASSES):\n",
    "            pred_mask = pred_masks[..., class_index]\n",
    "            pred_mask = post_process(pred_mask, threshold=.5, min_size=0)\n",
    "            pred_masks[...,class_index] = pred_mask\n",
    "\n",
    "        pred_rles = build_rles(pred_masks, reshape=(350, 525))\n",
    "        image_df['EncodedPixels'] = pred_rles\n",
    "\n",
    "        ### Post procecssing\n",
    "        pred_masks_post = preds[index, ].astype('float32')\n",
    "        for class_index in range(N_CLASSES):\n",
    "            pred_mask = pred_masks_post[...,class_index]\n",
    "            pred_mask = post_process(pred_mask, threshold=best_tresholds_seg[class_index], min_size=best_masks_seg[class_index])\n",
    "            pred_masks_post[...,class_index] = pred_mask\n",
    "\n",
    "        pred_rles_post = build_rles(pred_masks_post, reshape=(350, 525))\n",
    "        image_df['EncodedPixels_post'] = pred_rles_post\n",
    "        ###\n",
    "\n",
    "        ### Post procecssing CLEAN\n",
    "        pred_masks_post = preds[index, ].astype('float32')\n",
    "        for class_index in range(N_CLASSES):\n",
    "            pred_mask = pred_masks_post[...,class_index]\n",
    "            pred_mask = post_process(pred_mask, threshold=.5, min_size=20000)\n",
    "            pred_masks_post[...,class_index] = pred_mask\n",
    "\n",
    "        pred_rles_post = build_rles(pred_masks_post, reshape=(350, 525))\n",
    "        image_df['EncodedPixels_post_clean'] = pred_rles_post\n",
    "        ###\n",
    "        \n",
    "        test_df.append(image_df)\n",
    "\n",
    "X_test = pd.concat(test_df)"
   ]
  },
  {
   "cell_type": "markdown",
   "metadata": {
    "colab_type": "text",
    "id": "h32UGHSlXZqe"
   },
   "source": [
    "# Using TTA Wrapper"
   ]
  },
  {
   "cell_type": "code",
   "execution_count": null,
   "metadata": {
    "_kg_hide-input": true,
    "colab": {},
    "colab_type": "code",
    "id": "kEfetnQ4XZqf"
   },
   "outputs": [],
   "source": [
    "segmentation_model_tta = tta_segmentation(segmentation_model, h_flip=True, v_flip=True, merge='mean')\n",
    "segmentation_model_tta.summary()"
   ]
  },
  {
   "cell_type": "markdown",
   "metadata": {
    "colab_type": "text",
    "id": "C9S4I_4fXZqv"
   },
   "source": [
    "# Apply segmentation model to test set (TTA)"
   ]
  },
  {
   "cell_type": "code",
   "execution_count": null,
   "metadata": {
    "_kg_hide-input": true,
    "cellView": "both",
    "colab": {},
    "colab_type": "code",
    "hide_input": true,
    "id": "Jawn0OrJXZqw"
   },
   "outputs": [],
   "source": [
    "test_df = []\n",
    "\n",
    "for i in range(0, test.shape[0], 300):\n",
    "    batch_idx = list(range(i, min(test.shape[0], i + 300)))\n",
    "    batch_set = test[batch_idx[0]: batch_idx[-1]+1]\n",
    "    \n",
    "    test_generator = DataGenerator(\n",
    "                      directory=test_images_path,\n",
    "                      dataframe=batch_set,\n",
    "                      target_df=submission,\n",
    "                      batch_size=1, \n",
    "                      target_size=(SEG_HEIGHT, SEG_WIDTH),\n",
    "                      n_channels=CHANNELS,\n",
    "                      n_classes=N_CLASSES,\n",
    "                      preprocessing=preprocessing,\n",
    "                      seed=seed,\n",
    "                      mode='predict',\n",
    "                      shuffle=False)\n",
    "    \n",
    "    preds = segmentation_model_tta.predict_generator(test_generator)\n",
    "\n",
    "    for index, b in enumerate(batch_idx):\n",
    "        filename = test['image'].iloc[b]\n",
    "        image_df = submission[submission['image'] == filename].copy()\n",
    "        pred_masks = preds[index, ].astype('float32')\n",
    "        for class_index in range(N_CLASSES):\n",
    "            pred_mask = pred_masks[..., class_index]\n",
    "            pred_mask = post_process(pred_mask, threshold=.5, min_size=20000)\n",
    "            pred_masks[...,class_index] = pred_mask\n",
    "\n",
    "        pred_rles = build_rles(pred_masks, reshape=(350, 525))\n",
    "        image_df['EncodedPixels_tta'] = pred_rles\n",
    "\n",
    "        ### Post procecssing\n",
    "        pred_masks_post = preds[index, ].astype('float32')\n",
    "        for class_index in range(N_CLASSES):\n",
    "            pred_mask = pred_masks_post[...,class_index]\n",
    "            pred_mask = post_process(pred_mask, threshold=best_tresholds_seg[class_index], min_size=best_masks_seg[class_index])\n",
    "            pred_masks_post[...,class_index] = pred_mask\n",
    "\n",
    "        pred_rles_post = build_rles(pred_masks_post, reshape=(350, 525))\n",
    "        image_df['EncodedPixels_post_tta'] = pred_rles_post\n",
    "        \n",
    "        test_df.append(image_df)\n",
    "\n",
    "X_test_tta = pd.concat(test_df)"
   ]
  },
  {
   "cell_type": "markdown",
   "metadata": {},
   "source": [
    "## Apply classifcation model to test set"
   ]
  },
  {
   "cell_type": "code",
   "execution_count": null,
   "metadata": {},
   "outputs": [],
   "source": [
    "test_class_preds = apply_tta(classification_model, classification_test_generator, steps=TTA_STEPS)\n",
    "test_class_preds2 = np.copy(test_class_preds)\n",
    "\n",
    "for index in range(len(label_columns)):\n",
    "  test_class_preds[:,index] = (test_class_preds[:,index] > best_tresholds_class[index]).astype(int)\n",
    "  test_class_preds2[:,index] = (test_class_preds2[:,index] > best_tresholds_class2[index]).astype(int)\n",
    "  \n",
    "X_test['empty_mask'] = test_class_preds.reshape(test_class_preds.shape[0]*N_CLASSES)\n",
    "X_test['empty_mask2'] = test_class_preds2.reshape(test_class_preds2.shape[0]*N_CLASSES)\n",
    "X_test_tta['empty_mask'] = test_class_preds.reshape(test_class_preds.shape[0]*N_CLASSES)\n",
    "X_test_tta['empty_mask2'] = test_class_preds2.reshape(test_class_preds2.shape[0]*N_CLASSES)\n",
    "\n",
    "X_test['EncodedPixels_post_class'] = X_test.apply(lambda row: row['EncodedPixels_post'] if row['empty_mask'] == 0 else '', axis=1)\n",
    "X_test['EncodedPixels_post_class2'] = X_test.apply(lambda row: row['EncodedPixels_post'] if row['empty_mask2'] == 0 else '', axis=1)\n",
    "X_test_tta['EncodedPixels_post_tta_class'] = X_test_tta.apply(lambda row: row['EncodedPixels_post_tta'] if row['empty_mask'] == 0 else '', axis=1)\n",
    "X_test_tta['EncodedPixels_post_tta_class2'] = X_test_tta.apply(lambda row: row['EncodedPixels_post_tta'] if row['empty_mask2'] == 0 else '', axis=1)"
   ]
  },
  {
   "cell_type": "markdown",
   "metadata": {},
   "source": [
    "### Number of masks removed"
   ]
  },
  {
   "cell_type": "code",
   "execution_count": null,
   "metadata": {},
   "outputs": [],
   "source": [
    "print('Masks removed in \"%s\": %s' % ('EncodedPixels_post_class', len(X_test[(X_test['EncodedPixels_post'] != '') & (X_test['empty_mask'] == 1)])))\n",
    "print('Masks removed in \"%s\": %s' % ('EncodedPixels_post_class2', len(X_test[(X_test['EncodedPixels_post'] != '') & (X_test['empty_mask2'] == 1)])))\n",
    "  \n",
    "print('Using TTA wrapper')\n",
    "print('Masks removed in \"%s\": %s' % ('EncodedPixels_post_tta_class', len(X_test_tta[(X_test_tta['EncodedPixels_post_tta'] != '') & (X_test_tta['empty_mask'] == 1)])))\n",
    "print('Masks removed in \"%s\": %s' % ('EncodedPixels_post_tta_class2', len(X_test_tta[(X_test_tta['EncodedPixels_post_tta'] != '') & (X_test_tta['empty_mask2'] == 1)])))"
   ]
  },
  {
   "cell_type": "markdown",
   "metadata": {
    "colab_type": "text",
    "id": "rWsREgJwYq5Z"
   },
   "source": [
    "## Inspecting some of the test set predictions\n",
    "\n",
    "### Without post-process"
   ]
  },
  {
   "cell_type": "code",
   "execution_count": null,
   "metadata": {
    "_kg_hide-input": true,
    "cellView": "both",
    "colab": {},
    "colab_type": "code",
    "id": "6bdNnwT0YrAX"
   },
   "outputs": [],
   "source": [
    "images_to_inspect_test =  np.random.choice(X_test['image'].unique(), 4, replace=False)\n",
    "inspect_predictions(X_test, images_to_inspect_test, test_images_path)"
   ]
  },
  {
   "cell_type": "markdown",
   "metadata": {
    "colab_type": "text",
    "id": "uqpK_tYVYrGv"
   },
   "source": [
    "### With post-process"
   ]
  },
  {
   "cell_type": "code",
   "execution_count": null,
   "metadata": {
    "_kg_hide-input": true,
    "cellView": "form",
    "colab": {},
    "colab_type": "code",
    "id": "U4492zFsYrPJ"
   },
   "outputs": [],
   "source": [
    "inspect_predictions(X_test, images_to_inspect_test, test_images_path, label_col='EncodedPixels_post')"
   ]
  },
  {
   "cell_type": "markdown",
   "metadata": {},
   "source": [
    "## Without post-process and TTA"
   ]
  },
  {
   "cell_type": "code",
   "execution_count": null,
   "metadata": {},
   "outputs": [],
   "source": [
    "inspect_predictions(X_test_tta, images_to_inspect_test, test_images_path, label_col='EncodedPixels_tta')"
   ]
  },
  {
   "cell_type": "markdown",
   "metadata": {},
   "source": [
    "## With post-process and TTA"
   ]
  },
  {
   "cell_type": "code",
   "execution_count": null,
   "metadata": {},
   "outputs": [],
   "source": [
    "inspect_predictions(X_test_tta, images_to_inspect_test, test_images_path, label_col='EncodedPixels_post_tta')"
   ]
  },
  {
   "cell_type": "markdown",
   "metadata": {
    "colab_type": "text",
    "id": "x6kRYkpEHdrW"
   },
   "source": [
    "### Submission with post processing"
   ]
  },
  {
   "cell_type": "code",
   "execution_count": null,
   "metadata": {
    "_kg_hide-input": true,
    "cellView": "both",
    "colab": {},
    "colab_type": "code",
    "id": "YS-nEViCHdrW"
   },
   "outputs": [],
   "source": [
    "submission_df = X_test[['Image_Label' ,'EncodedPixels_post']]\n",
    "submission_df.columns = ['Image_Label' ,'EncodedPixels']\n",
    "submission_df.to_csv(submission_post_path, index=False)\n",
    "display(submission_df.head())"
   ]
  },
  {
   "cell_type": "markdown",
   "metadata": {
    "colab_type": "text",
    "id": "QQX1_-6iHdra"
   },
   "source": [
    "### Submission with post processing and mask classification (beta 0.5)"
   ]
  },
  {
   "cell_type": "code",
   "execution_count": null,
   "metadata": {
    "_kg_hide-input": true,
    "cellView": "form",
    "colab": {},
    "colab_type": "code",
    "id": "G6GGTridHdrb"
   },
   "outputs": [],
   "source": [
    "submission_df = X_test[['Image_Label' ,'EncodedPixels_post_class']]\n",
    "submission_df.columns = ['Image_Label' ,'EncodedPixels']\n",
    "submission_df.to_csv(submission_post_class_path, index=False)\n",
    "display(submission_df.head())"
   ]
  },
  {
   "cell_type": "markdown",
   "metadata": {
    "colab_type": "text",
    "id": "h0FxXl2dGooL"
   },
   "source": [
    "### Submission with post processing and mask classification (beta 1)"
   ]
  },
  {
   "cell_type": "code",
   "execution_count": null,
   "metadata": {
    "_kg_hide-input": true,
    "colab": {},
    "colab_type": "code",
    "id": "fRuB48n4Gr-L"
   },
   "outputs": [],
   "source": [
    "submission_df = X_test[['Image_Label' ,'EncodedPixels_post_class2']]\n",
    "submission_df.columns = ['Image_Label' ,'EncodedPixels']\n",
    "submission_df.to_csv(submission_post_class2_path, index=False)\n",
    "display(submission_df.head())"
   ]
  },
  {
   "cell_type": "markdown",
   "metadata": {},
   "source": [
    "### Submission with post processing and TTA"
   ]
  },
  {
   "cell_type": "code",
   "execution_count": null,
   "metadata": {},
   "outputs": [],
   "source": [
    "submission_df = X_test_tta[['Image_Label' ,'EncodedPixels_post_tta']]\n",
    "submission_df.columns = ['Image_Label' ,'EncodedPixels']\n",
    "submission_df.to_csv(submission_post_tta_path, index=False)\n",
    "display(submission_df.head())"
   ]
  },
  {
   "cell_type": "markdown",
   "metadata": {},
   "source": [
    "### Submission with post processing, mask classification and TTA (beta 0.5)"
   ]
  },
  {
   "cell_type": "code",
   "execution_count": null,
   "metadata": {},
   "outputs": [],
   "source": [
    "submission_df = X_test_tta[['Image_Label' ,'EncodedPixels_post_tta_class']]\n",
    "submission_df.columns = ['Image_Label' ,'EncodedPixels']\n",
    "submission_df.to_csv(submission_post_tta_class_path, index=False)\n",
    "display(submission_df.head())"
   ]
  },
  {
   "cell_type": "markdown",
   "metadata": {},
   "source": [
    "### Submission with post processing, mask classification and TTA (beta 1)"
   ]
  },
  {
   "cell_type": "code",
   "execution_count": null,
   "metadata": {},
   "outputs": [],
   "source": [
    "submission_df = X_test_tta[['Image_Label' ,'EncodedPixels_post_tta_class2']]\n",
    "submission_df.columns = ['Image_Label' ,'EncodedPixels']\n",
    "submission_df.to_csv(submission_post_tta_class2_path, index=False)\n",
    "display(submission_df.head())"
   ]
  }
 ],
 "metadata": {
  "accelerator": "GPU",
  "colab": {
   "collapsed_sections": [],
   "name": "14-[seg]-[5-fold]42-unet_densenet169_384x480.ipynb",
   "provenance": []
  },
  "hide_input": false,
  "kernelspec": {
   "display_name": "Python 3",
   "language": "python",
   "name": "python3"
  }
 },
 "nbformat": 4,
 "nbformat_minor": 1
}
